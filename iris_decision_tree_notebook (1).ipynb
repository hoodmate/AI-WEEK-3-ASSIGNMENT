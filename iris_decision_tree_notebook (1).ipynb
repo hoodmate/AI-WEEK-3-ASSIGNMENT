{
 "cells": [
  {
   "cell_type": "markdown",
   "id": "da4dc13b",
   "metadata": {},
   "source": [
    "# Iris Decision Tree - Preprocessing & Training\n",
    "\n",
    "This notebook demonstrates preprocessing, label encoding,\n",
    "and training a Decision Tree classifier on the Iris dataset.\n",
    "It also evaluates the model using accuracy, precision, and recall.\n",
    "\n",
    "Steps are commented inline for clarity."
   ]
  },
  {
   "cell_type": "code",
   "execution_count": null,
   "id": "55c6d417",
   "metadata": {},
   "outputs": [],
   "source": [
    "# 1. Imports and loading the Iris dataset\n",
    "from sklearn import datasets\n",
    "import pandas as pd\n",
    "import numpy as np\n",
    "from sklearn.model_selection import train_test_split\n",
    "from sklearn.tree import DecisionTreeClassifier\n",
    "from sklearn.metrics import accuracy_score, precision_score, recall_score, classification_report\n",
    "from sklearn.preprocessing import LabelEncoder\n",
    "from sklearn.impute import SimpleImputer\n",
    "\n",
    "iris = datasets.load_iris()\n",
    "X = iris['data']\n",
    "y = iris['target']\n",
    "feature_names = iris['feature_names']\n",
    "target_names = iris['target_names']\n",
    "\n",
    "# Build DataFrame\n",
    "df = pd.DataFrame(X, columns=feature_names)\n",
    "df['species'] = pd.Categorical.from_codes(y, target_names)\n",
    "\n",
    "df.head()"
   ]
  },
  {
   "cell_type": "code",
   "execution_count": null,
   "id": "8a893066",
   "metadata": {},
   "outputs": [],
   "source": [
    "# 2. Check & handle missing values\n",
    "print('Missing values per column:')\n",
    "print(df.isnull().sum())\n",
    "\n",
    "# Impute if necessary (Iris dataset has no missing values by default)\n",
    "if df.isnull().values.any():\n",
    "    imputer = SimpleImputer(strategy='mean')\n",
    "    df.iloc[:, :-1] = imputer.fit_transform(df.iloc[:, :-1])\n",
    "    print('Imputation done (mean).')\n",
    "else:\n",
    "    print('No missing values detected.')"
   ]
  },
  {
   "cell_type": "code",
   "execution_count": null,
   "id": "738969fd",
   "metadata": {},
   "outputs": [],
   "source": [
    "# 3. Encode labels (species) to numeric values\n",
    "le = LabelEncoder()\n",
    "df['species_encoded'] = le.fit_transform(df['species'])\n",
    "print('Classes:', le.classes_)\n",
    "df[['species', 'species_encoded']].drop_duplicates()"
   ]
  },
  {
   "cell_type": "code",
   "execution_count": null,
   "id": "caaa6e7e",
   "metadata": {},
   "outputs": [],
   "source": [
    "# 4. Prepare features and target, then split into train/test\n",
    "X = df[feature_names].values\n",
    "y_enc = df['species_encoded'].values\n",
    "\n",
    "X_train, X_test, y_train, y_test = train_test_split(\n",
    "    X, y_enc, test_size=0.2, random_state=42, stratify=y_enc\n",
    ")\n",
    "\n",
    "print('Train size:', X_train.shape[0], 'Test size:', X_test.shape[0])"
   ]
  },
  {
   "cell_type": "code",
   "execution_count": null,
   "id": "3562df87",
   "metadata": {},
   "outputs": [],
   "source": [
    "# 5. Train a Decision Tree classifier\n",
    "clf = DecisionTreeClassifier(random_state=42)\n",
    "clf.fit(X_train, y_train)\n",
    "y_pred = clf.predict(X_test)\n",
    "print('Predictions on test set:', y_pred)"
   ]
  },
  {
   "cell_type": "code",
   "execution_count": null,
   "id": "769e1476",
   "metadata": {},
   "outputs": [],
   "source": [
    "# 6. Evaluate: accuracy, precision, recall, and full report\n",
    "acc = accuracy_score(y_test, y_pred)\n",
    "prec_macro = precision_score(y_test, y_pred, average='macro', zero_division=0)\n",
    "rec_macro = recall_score(y_test, y_pred, average='macro', zero_division=0)\n",
    "\n",
    "print(f'Accuracy: {acc:.4f}')\n",
    "print(f'Precision (macro): {prec_macro:.4f}')\n",
    "print(f'Recall (macro): {rec_macro:.4f}')\n",
    "\n",
    "print('\\\\nClassification report:')\n",
    "print(classification_report(y_test, y_pred, target_names=le.classes_, zero_division=0))"
   ]
  }
 ],
 "metadata": {},
 "nbformat": 4,
 "nbformat_minor": 5
}
